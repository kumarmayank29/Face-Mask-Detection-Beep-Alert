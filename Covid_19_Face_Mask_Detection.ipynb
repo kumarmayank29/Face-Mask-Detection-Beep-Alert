{
  "nbformat": 4,
  "nbformat_minor": 0,
  "metadata": {
    "colab": {
      "name": "Covid-19_Face_Mask_Detection.ipynb",
      "provenance": [],
      "authorship_tag": "ABX9TyMlc+eCT8tzGyYuQ9VqZ37v",
      "include_colab_link": true
    },
    "kernelspec": {
      "name": "python3",
      "display_name": "Python 3"
    },
    "language_info": {
      "name": "python"
    },
    "accelerator": "GPU"
  },
  "cells": [
    {
      "cell_type": "markdown",
      "metadata": {
        "id": "view-in-github",
        "colab_type": "text"
      },
      "source": [
        "<a href=\"https://colab.research.google.com/github/kumarmayank29/Face-Mask-Detection-Beep-Alert/blob/main/Covid_19_Face_Mask_Detection.ipynb\" target=\"_parent\"><img src=\"https://colab.research.google.com/assets/colab-badge.svg\" alt=\"Open In Colab\"/></a>"
      ]
    },
    {
      "cell_type": "code",
      "metadata": {
        "colab": {
          "base_uri": "https://localhost:8080/"
        },
        "id": "e_m8jm-1EAqI",
        "outputId": "7369865c-92a2-421d-e506-f5073d9eae0c"
      },
      "source": [
        "#Mounting the Google Drive\n",
        "from google.colab import drive\n",
        "drive.mount('/content/drive')"
      ],
      "execution_count": null,
      "outputs": [
        {
          "output_type": "stream",
          "text": [
            "Drive already mounted at /content/drive; to attempt to forcibly remount, call drive.mount(\"/content/drive\", force_remount=True).\n"
          ],
          "name": "stdout"
        }
      ]
    },
    {
      "cell_type": "code",
      "metadata": {
        "id": "SGJvJQm1EDo4"
      },
      "source": [
        "\n",
        "#cd content/Drive/My Drive/My_Projects/FACE_MASK_DETECTION"
      ],
      "execution_count": null,
      "outputs": []
    },
    {
      "cell_type": "code",
      "metadata": {
        "colab": {
          "base_uri": "https://localhost:8080/"
        },
        "id": "Fk9Gj0ZmFJSe",
        "outputId": "87125a57-2861-495e-aea2-642df221f3ee"
      },
      "source": [
        "\n",
        "import cv2,os\n",
        "data_path='/content/drive/My Drive/My_Projects/FACE_MASK_DETECTION/Dataset/'\n",
        "\n",
        "\n",
        "#Here I use listdir function from os package to list the Directories contained inside Dataset Folder thats why it shows\n",
        "#two sub-directories with_mask and without_mask alongwith the labels which are zipped in a dictionary\n",
        "categories=os.listdir(data_path)\n",
        "labels=[i for i in range(len(categories))]\n",
        "\n",
        "label_dict=dict(zip(categories,labels)) #empty dictionary\n",
        "\n",
        "print(label_dict)\n",
        "print(categories)\n",
        "print(labels)"
      ],
      "execution_count": null,
      "outputs": [
        {
          "output_type": "stream",
          "text": [
            "{'with_mask': 0, 'without_mask': 1}\n",
            "['with_mask', 'without_mask']\n",
            "[0, 1]\n"
          ],
          "name": "stdout"
        }
      ]
    },
    {
      "cell_type": "markdown",
      "metadata": {
        "id": "sAJ75EWqvI9Y"
      },
      "source": [
        "Now we use nested for loop .First for loop picking up each class directory namely 1)with_mask and 2)without_mask from google drive location called as data_path .\n",
        "\n",
        "It containes location of Dataset folder that is\n",
        "/content/drive/My Drive/My_Projects/FACE_MASK_DETECTION/Dataset\n",
        "\n",
        "Dataset which is shown above .Now Join Dataset folders with each individual with_mask and without_mask using seperator slash.We are using os.path.join method for this purpose so we will get directory path in first iteration as\n",
        "\n",
        "/content/drive/My Drive/My_Projects/FACE_MASK_DETECTION/Dataset/with_mask\n",
        "\n",
        "\n",
        "Second for loop is being used to get list of all image files in sepcific directory called img_names.Iterate over this list once we get individual image as img_name we are then using os.path.join method to join folder_path with that individual image using seperator slash. Then Reading that image using imread().\n",
        "\n",
        "\n",
        "Then we use try except block for error handling.If we find image in folder_path then we are employing try block inside this block we first convert image to grey scale and then resizing image to size 112 by 112 pixels Then later on we are appending it in the target list we defined above. Except block handle error.\n"
      ]
    },
    {
      "cell_type": "code",
      "metadata": {
        "id": "6ptuRr8SGCDP"
      },
      "source": [
        "img_size=100\n",
        "data=[]\n",
        "target=[]\n",
        "\n",
        "\n",
        "for category in categories:\n",
        "    folder_path=os.path.join(data_path,category)\n",
        "    img_names=os.listdir(folder_path)      #img_names will be actually a list of all images of perticular category\n",
        "        \n",
        "    for img_name in img_names:\n",
        "        img_path=os.path.join(folder_path,img_name)\n",
        "        img=cv2.imread(img_path)\n",
        "\n",
        "        try:\n",
        "            gray=cv2.cvtColor(img,cv2.COLOR_BGR2GRAY)           \n",
        "            #Coverting the image into gray scale\n",
        "            resized=cv2.resize(gray,(img_size,img_size))\n",
        "            #resizing the gray scale into 100x100, since we need a fixed common size for all the images in the dataset\n",
        "            data.append(resized)\n",
        "            target.append(label_dict[category])\n",
        "            #appending the image and the label(categorized) into the list (dataset)\n",
        "\n",
        "        except Exception as e:\n",
        "            print('Exception:',e)\n",
        "            #if any exception rasied, the exception will be printed here. And pass to the next image"
      ],
      "execution_count": null,
      "outputs": []
    },
    {
      "cell_type": "markdown",
      "metadata": {
        "id": "Bbokdmk_IDjR"
      },
      "source": [
        "**Recale and assign catagorical lables**\n",
        "\n",
        "\n",
        "\n",
        "In next two line first I am normmalising the image by dividing it by number 255 the reshaping image array without changing data of image array.We are reshaping it because we want these images in a specific format.\n",
        "\n",
        "Now Since labels are in form of text such as with_mask and without_mask so we need to perform one hot encoding on it so that labeld data can be understood by deep learning model.There are two classes One hot encoder-Needs data in integer encoded form to convert into respective encoding\n",
        "Label binarizer -This is not needed in this"
      ]
    },
    {
      "cell_type": "code",
      "metadata": {
        "id": "Ez7P4wnKGFaY"
      },
      "source": [
        "import numpy as np\n",
        "data=np.array(data)/255.0\n",
        "data=np.reshape(data,(data.shape[0],img_size,img_size,1))\n",
        "target=np.array(target)\n",
        "from keras.utils import np_utils\n",
        "new_target=np_utils.to_categorical(target)"
      ],
      "execution_count": null,
      "outputs": []
    },
    {
      "cell_type": "code",
      "metadata": {
        "colab": {
          "base_uri": "https://localhost:8080/"
        },
        "id": "3TsARcfOIJuB",
        "outputId": "7b21f77d-649c-4a3e-912a-23c0fc0f611f"
      },
      "source": [
        "new_target.shape"
      ],
      "execution_count": null,
      "outputs": [
        {
          "output_type": "execute_result",
          "data": {
            "text/plain": [
              "(1376, 2)"
            ]
          },
          "metadata": {
            "tags": []
          },
          "execution_count": 19
        }
      ]
    },
    {
      "cell_type": "code",
      "metadata": {
        "id": "Q1Mug5w3IMU7"
      },
      "source": [
        "np.save('images.npy',data)\n",
        "np.save('labels.npy',new_target)"
      ],
      "execution_count": null,
      "outputs": []
    },
    {
      "cell_type": "markdown",
      "metadata": {
        "id": "f5njlqLLOIHk"
      },
      "source": [
        "**CNN Model**"
      ]
    },
    {
      "cell_type": "code",
      "metadata": {
        "id": "Lz0FLjMJOF3a"
      },
      "source": [
        "import numpy as np\n",
        "data=np.load('images.npy')\n",
        "new_target=np.load('labels.npy')"
      ],
      "execution_count": null,
      "outputs": []
    },
    {
      "cell_type": "code",
      "metadata": {
        "colab": {
          "base_uri": "https://localhost:8080/"
        },
        "id": "OPbY-y-0OMdG",
        "outputId": "2c10ae27-936c-4b4b-904f-1a92918ccace"
      },
      "source": [
        "data.shape"
      ],
      "execution_count": null,
      "outputs": [
        {
          "output_type": "execute_result",
          "data": {
            "text/plain": [
              "(1376, 100, 100, 1)"
            ]
          },
          "metadata": {
            "tags": []
          },
          "execution_count": 28
        }
      ]
    },
    {
      "cell_type": "code",
      "metadata": {
        "colab": {
          "base_uri": "https://localhost:8080/"
        },
        "id": "Dpv4mXiFOapT",
        "outputId": "641c337d-a908-4e57-e6db-c9275e76c8bc"
      },
      "source": [
        "data.shape[1:]"
      ],
      "execution_count": null,
      "outputs": [
        {
          "output_type": "execute_result",
          "data": {
            "text/plain": [
              "(100, 100, 1)"
            ]
          },
          "metadata": {
            "tags": []
          },
          "execution_count": 29
        }
      ]
    },
    {
      "cell_type": "code",
      "metadata": {
        "id": "QLPpl3GxOc_P"
      },
      "source": [
        "from keras.models import Sequential\n",
        "from keras.layers import Dense,Activation,Flatten,Dropout\n",
        "from keras.layers import Conv2D,MaxPooling2D\n",
        "from keras.callbacks import ModelCheckpoint\n",
        "\n",
        "model=Sequential()\n",
        "\n",
        "model.add(Conv2D(200,(3,3),input_shape=data.shape[1:]))\n",
        "model.add(Activation('relu'))\n",
        "model.add(MaxPooling2D(pool_size=(2,2)))\n",
        "#The first CNN layer followed by Relu and MaxPooling layers\n",
        "\n",
        "model.add(Conv2D(100,(3,3)))\n",
        "model.add(Activation('relu'))\n",
        "model.add(MaxPooling2D(pool_size=(2,2)))\n",
        "#The second convolution layer followed by Relu and MaxPooling layers\n",
        "\n",
        "model.add(Flatten())\n",
        "model.add(Dropout(0.5))\n",
        "#Flatten layer to stack the output convolutions from second convolution layer\n",
        "model.add(Dense(50,activation='relu'))\n",
        "#Dense layer of 64 neurons\n",
        "model.add(Dense(2,activation='softmax'))\n",
        "#The Final layer with two outputs for two categories\n",
        "\n",
        "model.compile(loss='categorical_crossentropy',optimizer='adam',metrics=['accuracy'])"
      ],
      "execution_count": null,
      "outputs": []
    },
    {
      "cell_type": "code",
      "metadata": {
        "colab": {
          "base_uri": "https://localhost:8080/"
        },
        "id": "diaivQ4NOhRv",
        "outputId": "633d2e7e-b47f-4567-d09d-a94f779695bc"
      },
      "source": [
        "model.summary()"
      ],
      "execution_count": null,
      "outputs": [
        {
          "output_type": "stream",
          "text": [
            "Model: \"sequential\"\n",
            "_________________________________________________________________\n",
            "Layer (type)                 Output Shape              Param #   \n",
            "=================================================================\n",
            "conv2d (Conv2D)              (None, 98, 98, 200)       2000      \n",
            "_________________________________________________________________\n",
            "activation (Activation)      (None, 98, 98, 200)       0         \n",
            "_________________________________________________________________\n",
            "max_pooling2d (MaxPooling2D) (None, 49, 49, 200)       0         \n",
            "_________________________________________________________________\n",
            "conv2d_1 (Conv2D)            (None, 47, 47, 100)       180100    \n",
            "_________________________________________________________________\n",
            "activation_1 (Activation)    (None, 47, 47, 100)       0         \n",
            "_________________________________________________________________\n",
            "max_pooling2d_1 (MaxPooling2 (None, 23, 23, 100)       0         \n",
            "_________________________________________________________________\n",
            "flatten (Flatten)            (None, 52900)             0         \n",
            "_________________________________________________________________\n",
            "dropout (Dropout)            (None, 52900)             0         \n",
            "_________________________________________________________________\n",
            "dense (Dense)                (None, 50)                2645050   \n",
            "_________________________________________________________________\n",
            "dense_1 (Dense)              (None, 2)                 102       \n",
            "=================================================================\n",
            "Total params: 2,827,252\n",
            "Trainable params: 2,827,252\n",
            "Non-trainable params: 0\n",
            "_________________________________________________________________\n"
          ],
          "name": "stdout"
        }
      ]
    },
    {
      "cell_type": "markdown",
      "metadata": {
        "id": "q3l9s0ObOoCD"
      },
      "source": [
        "**Splittiong data into traning and testing**"
      ]
    },
    {
      "cell_type": "code",
      "metadata": {
        "id": "-JEzWAO8Oki8"
      },
      "source": [
        "from sklearn.model_selection import train_test_split\n",
        "train_data,test_data,train_target,test_target=train_test_split(data,new_target,test_size=0.1)"
      ],
      "execution_count": null,
      "outputs": []
    },
    {
      "cell_type": "code",
      "metadata": {
        "colab": {
          "base_uri": "https://localhost:8080/"
        },
        "id": "FxRuCResOsXH",
        "outputId": "294c4ff6-5eb6-4f7e-9ab2-e1f736b2b9f1"
      },
      "source": [
        "train_data.shape"
      ],
      "execution_count": null,
      "outputs": [
        {
          "output_type": "execute_result",
          "data": {
            "text/plain": [
              "(1238, 100, 100, 1)"
            ]
          },
          "metadata": {
            "tags": []
          },
          "execution_count": 33
        }
      ]
    },
    {
      "cell_type": "code",
      "metadata": {
        "colab": {
          "base_uri": "https://localhost:8080/"
        },
        "id": "WG0d-_KcOuyo",
        "outputId": "7e9b747f-ff1c-492b-9cf7-e81c1c1aa197"
      },
      "source": [
        "train_target.shape"
      ],
      "execution_count": null,
      "outputs": [
        {
          "output_type": "execute_result",
          "data": {
            "text/plain": [
              "(1238, 2)"
            ]
          },
          "metadata": {
            "tags": []
          },
          "execution_count": 34
        }
      ]
    },
    {
      "cell_type": "code",
      "metadata": {
        "colab": {
          "base_uri": "https://localhost:8080/"
        },
        "id": "Aw8QwrIaOxB1",
        "outputId": "01f9631f-8a09-43b6-89dc-13dcf464e120"
      },
      "source": [
        "checkpoint = ModelCheckpoint('model-{epoch:03d}.model',monitor='val_loss',verbose=0,save_best_only=True,mode='auto')\n",
        "history=model.fit(train_data,train_target,epochs=100,callbacks=[checkpoint],validation_split=0.2)"
      ],
      "execution_count": null,
      "outputs": [
        {
          "output_type": "stream",
          "text": [
            "Epoch 1/100\n",
            "31/31 [==============================] - 35s 79ms/step - loss: 0.8625 - accuracy: 0.5100 - val_loss: 0.6883 - val_accuracy: 0.6250\n",
            "INFO:tensorflow:Assets written to: model-001.model/assets\n",
            "Epoch 2/100\n",
            "31/31 [==============================] - 1s 46ms/step - loss: 0.6766 - accuracy: 0.6247 - val_loss: 0.6830 - val_accuracy: 0.5363\n",
            "INFO:tensorflow:Assets written to: model-002.model/assets\n",
            "Epoch 3/100\n",
            "31/31 [==============================] - 1s 46ms/step - loss: 0.6221 - accuracy: 0.6279 - val_loss: 0.5363 - val_accuracy: 0.7500\n",
            "INFO:tensorflow:Assets written to: model-003.model/assets\n",
            "Epoch 4/100\n",
            "31/31 [==============================] - 1s 47ms/step - loss: 0.4931 - accuracy: 0.7878 - val_loss: 0.4412 - val_accuracy: 0.8105\n",
            "INFO:tensorflow:Assets written to: model-004.model/assets\n",
            "Epoch 5/100\n",
            "31/31 [==============================] - 1s 47ms/step - loss: 0.3504 - accuracy: 0.8570 - val_loss: 0.3839 - val_accuracy: 0.8548\n",
            "INFO:tensorflow:Assets written to: model-005.model/assets\n",
            "Epoch 6/100\n",
            "31/31 [==============================] - 1s 47ms/step - loss: 0.2976 - accuracy: 0.8777 - val_loss: 0.2693 - val_accuracy: 0.8992\n",
            "INFO:tensorflow:Assets written to: model-006.model/assets\n",
            "Epoch 7/100\n",
            "31/31 [==============================] - 1s 47ms/step - loss: 0.2531 - accuracy: 0.9028 - val_loss: 0.2738 - val_accuracy: 0.8952\n",
            "Epoch 8/100\n",
            "31/31 [==============================] - 1s 47ms/step - loss: 0.2381 - accuracy: 0.9154 - val_loss: 0.2148 - val_accuracy: 0.9153\n",
            "INFO:tensorflow:Assets written to: model-008.model/assets\n",
            "Epoch 9/100\n",
            "31/31 [==============================] - 1s 47ms/step - loss: 0.1853 - accuracy: 0.9375 - val_loss: 0.2094 - val_accuracy: 0.9274\n",
            "INFO:tensorflow:Assets written to: model-009.model/assets\n",
            "Epoch 10/100\n",
            "31/31 [==============================] - 1s 46ms/step - loss: 0.1792 - accuracy: 0.9362 - val_loss: 0.2093 - val_accuracy: 0.9315\n",
            "INFO:tensorflow:Assets written to: model-010.model/assets\n",
            "Epoch 11/100\n",
            "31/31 [==============================] - 1s 46ms/step - loss: 0.1590 - accuracy: 0.9413 - val_loss: 0.1856 - val_accuracy: 0.9355\n",
            "INFO:tensorflow:Assets written to: model-011.model/assets\n",
            "Epoch 12/100\n",
            "31/31 [==============================] - 1s 47ms/step - loss: 0.1192 - accuracy: 0.9647 - val_loss: 0.1824 - val_accuracy: 0.9355\n",
            "INFO:tensorflow:Assets written to: model-012.model/assets\n",
            "Epoch 13/100\n",
            "31/31 [==============================] - 1s 47ms/step - loss: 0.1073 - accuracy: 0.9671 - val_loss: 0.1971 - val_accuracy: 0.9355\n",
            "Epoch 14/100\n",
            "31/31 [==============================] - 1s 47ms/step - loss: 0.1361 - accuracy: 0.9604 - val_loss: 0.1951 - val_accuracy: 0.9315\n",
            "Epoch 15/100\n",
            "31/31 [==============================] - 1s 46ms/step - loss: 0.1050 - accuracy: 0.9696 - val_loss: 0.1772 - val_accuracy: 0.9435\n",
            "INFO:tensorflow:Assets written to: model-015.model/assets\n",
            "Epoch 16/100\n",
            "31/31 [==============================] - 1s 46ms/step - loss: 0.0886 - accuracy: 0.9789 - val_loss: 0.1805 - val_accuracy: 0.9516\n",
            "Epoch 17/100\n",
            "31/31 [==============================] - 1s 46ms/step - loss: 0.0684 - accuracy: 0.9844 - val_loss: 0.1849 - val_accuracy: 0.9315\n",
            "Epoch 18/100\n",
            "31/31 [==============================] - 1s 47ms/step - loss: 0.0793 - accuracy: 0.9723 - val_loss: 0.1871 - val_accuracy: 0.9355\n",
            "Epoch 19/100\n",
            "31/31 [==============================] - 1s 46ms/step - loss: 0.0844 - accuracy: 0.9720 - val_loss: 0.2113 - val_accuracy: 0.9274\n",
            "Epoch 20/100\n",
            "31/31 [==============================] - 1s 47ms/step - loss: 0.1004 - accuracy: 0.9686 - val_loss: 0.1598 - val_accuracy: 0.9476\n",
            "INFO:tensorflow:Assets written to: model-020.model/assets\n",
            "Epoch 21/100\n",
            "31/31 [==============================] - 1s 46ms/step - loss: 0.0545 - accuracy: 0.9892 - val_loss: 0.1693 - val_accuracy: 0.9395\n",
            "Epoch 22/100\n",
            "31/31 [==============================] - 1s 46ms/step - loss: 0.0735 - accuracy: 0.9751 - val_loss: 0.1946 - val_accuracy: 0.9315\n",
            "Epoch 23/100\n",
            "31/31 [==============================] - 1s 47ms/step - loss: 0.0466 - accuracy: 0.9850 - val_loss: 0.1869 - val_accuracy: 0.9476\n",
            "Epoch 24/100\n",
            "31/31 [==============================] - 1s 47ms/step - loss: 0.0689 - accuracy: 0.9747 - val_loss: 0.4455 - val_accuracy: 0.8669\n",
            "Epoch 25/100\n",
            "31/31 [==============================] - 1s 47ms/step - loss: 0.1115 - accuracy: 0.9667 - val_loss: 0.1796 - val_accuracy: 0.9315\n",
            "Epoch 26/100\n",
            "31/31 [==============================] - 1s 47ms/step - loss: 0.0436 - accuracy: 0.9841 - val_loss: 0.1730 - val_accuracy: 0.9476\n",
            "Epoch 27/100\n",
            "31/31 [==============================] - 1s 46ms/step - loss: 0.0416 - accuracy: 0.9822 - val_loss: 0.1839 - val_accuracy: 0.9476\n",
            "Epoch 28/100\n",
            "31/31 [==============================] - 1s 47ms/step - loss: 0.0495 - accuracy: 0.9773 - val_loss: 0.1775 - val_accuracy: 0.9395\n",
            "Epoch 29/100\n",
            "31/31 [==============================] - 1s 47ms/step - loss: 0.0387 - accuracy: 0.9820 - val_loss: 0.2065 - val_accuracy: 0.9395\n",
            "Epoch 30/100\n",
            "31/31 [==============================] - 1s 47ms/step - loss: 0.0225 - accuracy: 0.9890 - val_loss: 0.1673 - val_accuracy: 0.9476\n",
            "Epoch 31/100\n",
            "31/31 [==============================] - 1s 47ms/step - loss: 0.0335 - accuracy: 0.9867 - val_loss: 0.1940 - val_accuracy: 0.9435\n",
            "Epoch 32/100\n",
            "31/31 [==============================] - 1s 47ms/step - loss: 0.0336 - accuracy: 0.9878 - val_loss: 0.1926 - val_accuracy: 0.9355\n",
            "Epoch 33/100\n",
            "31/31 [==============================] - 1s 47ms/step - loss: 0.0229 - accuracy: 0.9912 - val_loss: 0.1668 - val_accuracy: 0.9435\n",
            "Epoch 34/100\n",
            "31/31 [==============================] - 1s 47ms/step - loss: 0.0347 - accuracy: 0.9903 - val_loss: 0.2120 - val_accuracy: 0.9355\n",
            "Epoch 35/100\n",
            "31/31 [==============================] - 1s 48ms/step - loss: 0.0458 - accuracy: 0.9750 - val_loss: 0.2008 - val_accuracy: 0.9435\n",
            "Epoch 36/100\n",
            "31/31 [==============================] - 1s 47ms/step - loss: 0.0360 - accuracy: 0.9846 - val_loss: 0.1987 - val_accuracy: 0.9355\n",
            "Epoch 37/100\n",
            "31/31 [==============================] - 1s 47ms/step - loss: 0.0282 - accuracy: 0.9927 - val_loss: 0.2119 - val_accuracy: 0.9516\n",
            "Epoch 38/100\n",
            "31/31 [==============================] - 1s 47ms/step - loss: 0.0199 - accuracy: 0.9936 - val_loss: 0.1842 - val_accuracy: 0.9516\n",
            "Epoch 39/100\n",
            "31/31 [==============================] - 1s 46ms/step - loss: 0.0163 - accuracy: 0.9947 - val_loss: 0.1705 - val_accuracy: 0.9476\n",
            "Epoch 40/100\n",
            "31/31 [==============================] - 1s 47ms/step - loss: 0.0129 - accuracy: 0.9989 - val_loss: 0.1940 - val_accuracy: 0.9597\n",
            "Epoch 41/100\n",
            "31/31 [==============================] - 1s 47ms/step - loss: 0.0074 - accuracy: 0.9992 - val_loss: 0.2353 - val_accuracy: 0.9355\n",
            "Epoch 42/100\n",
            "31/31 [==============================] - 1s 47ms/step - loss: 0.0320 - accuracy: 0.9907 - val_loss: 0.1936 - val_accuracy: 0.9476\n",
            "Epoch 43/100\n",
            "31/31 [==============================] - 1s 47ms/step - loss: 0.0272 - accuracy: 0.9871 - val_loss: 0.1916 - val_accuracy: 0.9516\n",
            "Epoch 44/100\n",
            "31/31 [==============================] - 1s 47ms/step - loss: 0.0108 - accuracy: 0.9983 - val_loss: 0.2540 - val_accuracy: 0.9476\n",
            "Epoch 45/100\n",
            "31/31 [==============================] - 1s 47ms/step - loss: 0.0097 - accuracy: 0.9988 - val_loss: 0.2207 - val_accuracy: 0.9435\n",
            "Epoch 46/100\n",
            "31/31 [==============================] - 1s 47ms/step - loss: 0.0241 - accuracy: 0.9877 - val_loss: 0.2026 - val_accuracy: 0.9516\n",
            "Epoch 47/100\n",
            "31/31 [==============================] - 1s 47ms/step - loss: 0.0168 - accuracy: 0.9939 - val_loss: 0.2094 - val_accuracy: 0.9516\n",
            "Epoch 48/100\n",
            "31/31 [==============================] - 1s 47ms/step - loss: 0.0128 - accuracy: 0.9962 - val_loss: 0.2153 - val_accuracy: 0.9435\n",
            "Epoch 49/100\n",
            "31/31 [==============================] - 1s 47ms/step - loss: 0.0070 - accuracy: 0.9996 - val_loss: 0.2445 - val_accuracy: 0.9476\n",
            "Epoch 50/100\n",
            "31/31 [==============================] - 1s 47ms/step - loss: 0.0093 - accuracy: 0.9974 - val_loss: 0.2075 - val_accuracy: 0.9556\n",
            "Epoch 51/100\n",
            "31/31 [==============================] - 1s 47ms/step - loss: 0.0062 - accuracy: 0.9978 - val_loss: 0.2252 - val_accuracy: 0.9556\n",
            "Epoch 52/100\n",
            "31/31 [==============================] - 1s 48ms/step - loss: 0.0073 - accuracy: 0.9987 - val_loss: 0.2076 - val_accuracy: 0.9476\n",
            "Epoch 53/100\n",
            "31/31 [==============================] - 1s 48ms/step - loss: 0.0070 - accuracy: 0.9989 - val_loss: 0.2443 - val_accuracy: 0.9435\n",
            "Epoch 54/100\n",
            "31/31 [==============================] - 1s 47ms/step - loss: 0.0355 - accuracy: 0.9859 - val_loss: 0.2925 - val_accuracy: 0.9395\n",
            "Epoch 55/100\n",
            "31/31 [==============================] - 1s 48ms/step - loss: 0.0194 - accuracy: 0.9951 - val_loss: 0.1810 - val_accuracy: 0.9516\n",
            "Epoch 56/100\n",
            "31/31 [==============================] - 1s 47ms/step - loss: 0.0092 - accuracy: 0.9969 - val_loss: 0.2519 - val_accuracy: 0.9516\n",
            "Epoch 57/100\n",
            "31/31 [==============================] - 1s 47ms/step - loss: 0.0070 - accuracy: 0.9988 - val_loss: 0.2012 - val_accuracy: 0.9516\n",
            "Epoch 58/100\n",
            "31/31 [==============================] - 1s 47ms/step - loss: 0.0216 - accuracy: 0.9900 - val_loss: 0.1840 - val_accuracy: 0.9597\n",
            "Epoch 59/100\n",
            "31/31 [==============================] - 1s 47ms/step - loss: 0.0131 - accuracy: 0.9985 - val_loss: 0.1961 - val_accuracy: 0.9516\n",
            "Epoch 60/100\n",
            "31/31 [==============================] - 1s 47ms/step - loss: 0.0071 - accuracy: 0.9980 - val_loss: 0.2092 - val_accuracy: 0.9597\n",
            "Epoch 61/100\n",
            "31/31 [==============================] - 1s 47ms/step - loss: 0.0033 - accuracy: 0.9995 - val_loss: 0.1995 - val_accuracy: 0.9556\n",
            "Epoch 62/100\n",
            "31/31 [==============================] - 1s 48ms/step - loss: 0.0105 - accuracy: 0.9942 - val_loss: 0.1995 - val_accuracy: 0.9556\n",
            "Epoch 63/100\n",
            "31/31 [==============================] - 1s 47ms/step - loss: 0.0055 - accuracy: 0.9994 - val_loss: 0.2152 - val_accuracy: 0.9516\n",
            "Epoch 64/100\n",
            "31/31 [==============================] - 1s 47ms/step - loss: 0.0034 - accuracy: 0.9995 - val_loss: 0.2007 - val_accuracy: 0.9476\n",
            "Epoch 65/100\n",
            "31/31 [==============================] - 1s 47ms/step - loss: 0.0045 - accuracy: 0.9973 - val_loss: 0.2723 - val_accuracy: 0.9435\n",
            "Epoch 66/100\n",
            "31/31 [==============================] - 1s 47ms/step - loss: 0.0142 - accuracy: 0.9941 - val_loss: 0.2298 - val_accuracy: 0.9516\n",
            "Epoch 67/100\n",
            "31/31 [==============================] - 1s 48ms/step - loss: 0.0021 - accuracy: 1.0000 - val_loss: 0.2462 - val_accuracy: 0.9516\n",
            "Epoch 68/100\n",
            "31/31 [==============================] - 1s 48ms/step - loss: 0.0033 - accuracy: 0.9997 - val_loss: 0.2507 - val_accuracy: 0.9516\n",
            "Epoch 69/100\n",
            "31/31 [==============================] - 1s 47ms/step - loss: 0.0088 - accuracy: 0.9971 - val_loss: 0.2345 - val_accuracy: 0.9516\n",
            "Epoch 70/100\n",
            "31/31 [==============================] - 1s 48ms/step - loss: 0.0127 - accuracy: 0.9963 - val_loss: 0.2304 - val_accuracy: 0.9516\n",
            "Epoch 71/100\n",
            "31/31 [==============================] - 1s 47ms/step - loss: 0.0015 - accuracy: 1.0000 - val_loss: 0.2370 - val_accuracy: 0.9556\n",
            "Epoch 72/100\n",
            "31/31 [==============================] - 1s 47ms/step - loss: 0.0018 - accuracy: 1.0000 - val_loss: 0.2221 - val_accuracy: 0.9476\n",
            "Epoch 73/100\n",
            "31/31 [==============================] - 1s 47ms/step - loss: 0.0019 - accuracy: 1.0000 - val_loss: 0.2385 - val_accuracy: 0.9435\n",
            "Epoch 74/100\n",
            "31/31 [==============================] - 1s 47ms/step - loss: 0.0238 - accuracy: 0.9917 - val_loss: 0.2846 - val_accuracy: 0.9435\n",
            "Epoch 75/100\n",
            "31/31 [==============================] - 1s 47ms/step - loss: 0.0351 - accuracy: 0.9866 - val_loss: 0.1819 - val_accuracy: 0.9476\n",
            "Epoch 76/100\n",
            "31/31 [==============================] - 1s 47ms/step - loss: 0.0070 - accuracy: 0.9978 - val_loss: 0.2276 - val_accuracy: 0.9476\n",
            "Epoch 77/100\n",
            "31/31 [==============================] - 1s 47ms/step - loss: 0.0074 - accuracy: 0.9973 - val_loss: 0.1729 - val_accuracy: 0.9435\n",
            "Epoch 78/100\n",
            "31/31 [==============================] - 1s 47ms/step - loss: 0.0021 - accuracy: 1.0000 - val_loss: 0.1781 - val_accuracy: 0.9516\n",
            "Epoch 79/100\n",
            "31/31 [==============================] - 1s 47ms/step - loss: 0.0022 - accuracy: 1.0000 - val_loss: 0.2221 - val_accuracy: 0.9556\n",
            "Epoch 80/100\n",
            "31/31 [==============================] - 1s 46ms/step - loss: 0.0214 - accuracy: 0.9928 - val_loss: 0.2697 - val_accuracy: 0.9355\n",
            "Epoch 81/100\n",
            "31/31 [==============================] - 1s 47ms/step - loss: 0.0595 - accuracy: 0.9756 - val_loss: 0.4076 - val_accuracy: 0.9234\n",
            "Epoch 82/100\n",
            "31/31 [==============================] - 1s 47ms/step - loss: 0.1720 - accuracy: 0.9603 - val_loss: 0.1959 - val_accuracy: 0.9476\n",
            "Epoch 83/100\n",
            "31/31 [==============================] - 1s 47ms/step - loss: 0.0344 - accuracy: 0.9891 - val_loss: 0.2202 - val_accuracy: 0.9516\n",
            "Epoch 84/100\n",
            "31/31 [==============================] - 1s 47ms/step - loss: 0.0038 - accuracy: 1.0000 - val_loss: 0.1959 - val_accuracy: 0.9597\n",
            "Epoch 85/100\n",
            "31/31 [==============================] - 1s 47ms/step - loss: 0.0033 - accuracy: 1.0000 - val_loss: 0.1955 - val_accuracy: 0.9516\n",
            "Epoch 86/100\n",
            "31/31 [==============================] - 1s 47ms/step - loss: 0.0053 - accuracy: 0.9984 - val_loss: 0.2317 - val_accuracy: 0.9476\n",
            "Epoch 87/100\n",
            "31/31 [==============================] - 1s 47ms/step - loss: 0.0053 - accuracy: 0.9997 - val_loss: 0.2144 - val_accuracy: 0.9435\n",
            "Epoch 88/100\n",
            "31/31 [==============================] - 1s 48ms/step - loss: 0.0041 - accuracy: 1.0000 - val_loss: 0.2206 - val_accuracy: 0.9556\n",
            "Epoch 89/100\n",
            "31/31 [==============================] - 1s 47ms/step - loss: 0.0042 - accuracy: 0.9982 - val_loss: 0.2788 - val_accuracy: 0.9476\n",
            "Epoch 90/100\n",
            "31/31 [==============================] - 1s 47ms/step - loss: 0.0346 - accuracy: 0.9919 - val_loss: 0.2200 - val_accuracy: 0.9435\n",
            "Epoch 91/100\n",
            "31/31 [==============================] - 1s 46ms/step - loss: 0.0035 - accuracy: 0.9994 - val_loss: 0.2175 - val_accuracy: 0.9476\n",
            "Epoch 92/100\n",
            "31/31 [==============================] - 1s 47ms/step - loss: 0.0060 - accuracy: 0.9971 - val_loss: 0.2408 - val_accuracy: 0.9435\n",
            "Epoch 93/100\n",
            "31/31 [==============================] - 1s 47ms/step - loss: 0.0126 - accuracy: 0.9961 - val_loss: 0.1854 - val_accuracy: 0.9476\n",
            "Epoch 94/100\n",
            "31/31 [==============================] - 1s 47ms/step - loss: 0.0208 - accuracy: 0.9906 - val_loss: 0.2881 - val_accuracy: 0.9556\n",
            "Epoch 95/100\n",
            "31/31 [==============================] - 1s 47ms/step - loss: 0.0128 - accuracy: 0.9971 - val_loss: 0.2654 - val_accuracy: 0.9435\n",
            "Epoch 96/100\n",
            "31/31 [==============================] - 1s 47ms/step - loss: 0.0054 - accuracy: 0.9991 - val_loss: 0.1984 - val_accuracy: 0.9556\n",
            "Epoch 97/100\n",
            "31/31 [==============================] - 1s 47ms/step - loss: 0.0014 - accuracy: 1.0000 - val_loss: 0.2026 - val_accuracy: 0.9556\n",
            "Epoch 98/100\n",
            "31/31 [==============================] - 1s 47ms/step - loss: 0.0037 - accuracy: 0.9991 - val_loss: 0.2118 - val_accuracy: 0.9556\n",
            "Epoch 99/100\n",
            "31/31 [==============================] - 1s 47ms/step - loss: 0.0035 - accuracy: 1.0000 - val_loss: 0.2310 - val_accuracy: 0.9516\n",
            "Epoch 100/100\n",
            "31/31 [==============================] - 1s 48ms/step - loss: 9.7540e-04 - accuracy: 1.0000 - val_loss: 0.2400 - val_accuracy: 0.9476\n"
          ],
          "name": "stdout"
        }
      ]
    },
    {
      "cell_type": "code",
      "metadata": {
        "colab": {
          "base_uri": "https://localhost:8080/",
          "height": 299
        },
        "id": "8q8LDwDPOz3A",
        "outputId": "ff798727-252b-46f9-fb68-62ea5e5720a5"
      },
      "source": [
        "# plot the training loss and accuracy\n",
        "from matplotlib import pyplot as plt\n",
        "N = 100\n",
        "plt.style.use(\"ggplot\")\n",
        "plt.figure()\n",
        "plt.plot(np.arange(0, N), history.history[\"loss\"], label=\"train_loss\")\n",
        "plt.plot(np.arange(0, N), history.history[\"val_loss\"], label=\"val_loss\")\n",
        "plt.plot(np.arange(0, N), history.history[\"accuracy\"], label=\"train_acc\")\n",
        "plt.plot(np.arange(0, N), history.history[\"val_accuracy\"], label=\"val_acc\")\n",
        "plt.title(\"Training Loss and Accuracy\")\n",
        "plt.xlabel(\"Epoch #\")\n",
        "plt.ylabel(\"Loss/Accuracy\")\n",
        "plt.legend(loc=\"center right\")\n",
        "plt.savefig(\"CNN_Model\")"
      ],
      "execution_count": null,
      "outputs": [
        {
          "output_type": "display_data",
          "data": {
            "image/png": "[encoded data removed]",
            "text/plain": [
              "<Figure size 432x288 with 1 Axes>"
            ]
          },
          "metadata": {
            "tags": []
          }
        }
      ]
    },
    {
      "cell_type": "code",
      "metadata": {
        "id": "MU418AeqPxwE"
      },
      "source": [
        ""
      ],
      "execution_count": null,
      "outputs": []
    }
  ]
}